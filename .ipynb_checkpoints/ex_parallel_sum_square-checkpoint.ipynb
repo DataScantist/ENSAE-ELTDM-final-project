{
 "cells": [
  {
   "cell_type": "markdown",
   "id": "5169cb55-cd70-400a-ab3b-b265786752b7",
   "metadata": {},
   "source": [
    "## Test of speed for a sum of squares, with or without multiprocessing "
   ]
  },
  {
   "cell_type": "markdown",
   "id": "02e0a12a-f505-4a95-950a-94aca9636869",
   "metadata": {},
   "source": [
    "### Single thread in a single process on a single CPU"
   ]
  },
  {
   "cell_type": "code",
   "execution_count": null,
   "id": "ae05fc80-608e-44d4-9fc7-2cd06fe29eb5",
   "metadata": {},
   "outputs": [],
   "source": [
    "# This code calls cpu_bound() 20 times with a different large number each time\n",
    "import time\n",
    "\n",
    "def cpu_bound(number):\n",
    "    return sum(i * i for i in range(number))\n",
    "\n",
    "\n",
    "def find_sums(numbers):\n",
    "    for number in numbers:\n",
    "        cpu_bound(number)\n",
    "\n",
    "\n",
    "if __name__ == \"__main__\":\n",
    "    numbers = [5000000 + x for x in range(20)]\n",
    "\n",
    "    start_time = time.time()\n",
    "    find_sums(numbers)\n",
    "    duration = time.time() - start_time\n",
    "    print(f\"Duration {duration} seconds\")"
   ]
  },
  {
   "cell_type": "markdown",
   "id": "0eb5f59f-b931-45c6-ba46-38a177190fcd",
   "metadata": {},
   "source": [
    "### Multiprocessing"
   ]
  },
  {
   "cell_type": "code",
   "execution_count": null,
   "id": "5e00cb45-a836-41c6-a453-dd716d118c34",
   "metadata": {},
   "outputs": [],
   "source": [
    "import multiprocessing\n",
    "multiprocessing.cpu_count()\n",
    "\n",
    "print(f\"there are {multiprocessing.cpu_count()} available CPU\")"
   ]
  },
  {
   "cell_type": "code",
   "execution_count": null,
   "id": "2dbe2a4c-b0c8-4b71-9140-a1947c298d50",
   "metadata": {},
   "outputs": [],
   "source": [
    "def find_sums_mult(numbers):\n",
    "    with multiprocessing.Pool() as pool:\n",
    "        pool.map(cpu_bound, numbers)\n",
    "\n",
    "\n",
    "if __name__ == \"__main__\":\n",
    "    numbers = [5000000 + x for x in range(20)]\n",
    "\n",
    "    start_time = time.time()\n",
    "    find_sums_mult(numbers)\n",
    "    duration = time.time() - start_time\n",
    "    print(f\"Duration {duration} seconds\")"
   ]
  },
  {
   "cell_type": "code",
   "execution_count": null,
   "id": "e7625143-5787-4ad0-a6fc-fcf91c13d962",
   "metadata": {},
   "outputs": [],
   "source": [
    "# try to modulate the number of core used\n",
    "# and chart the speed per nb of core used "
   ]
  },
  {
   "cell_type": "code",
   "execution_count": null,
   "id": "f7be11af-debc-415d-b97f-6e901133161f",
   "metadata": {},
   "outputs": [],
   "source": []
  }
 ],
 "metadata": {
  "kernelspec": {
   "display_name": "Python 3 (ipykernel)",
   "language": "python",
   "name": "python3"
  },
  "language_info": {
   "codemirror_mode": {
    "name": "ipython",
    "version": 3
   },
   "file_extension": ".py",
   "mimetype": "text/x-python",
   "name": "python",
   "nbconvert_exporter": "python",
   "pygments_lexer": "ipython3",
   "version": "3.10.9"
  }
 },
 "nbformat": 4,
 "nbformat_minor": 5
}
